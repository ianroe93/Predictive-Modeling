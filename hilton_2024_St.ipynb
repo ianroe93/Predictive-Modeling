{
 "cells": [
  {
   "cell_type": "markdown",
   "id": "4ccb396c-a007-476d-b5a1-f7da844cce3d",
   "metadata": {},
   "source": [
    "# Predicting and Explaining Employee Turnover at Hilton"
   ]
  },
  {
   "cell_type": "markdown",
   "id": "e4b6d75c-95ac-4968-9e52-67fc4db88f58",
   "metadata": {},
   "source": [
    "Our objective is to train and evaluate a predictive model that predicts whether employees intend to stay or leave Hilton. We also want to understand which factors explain employees' intention to stay or leave. "
   ]
  },
  {
   "cell_type": "markdown",
   "id": "944fba60-baad-4eda-b05e-9b384581b781",
   "metadata": {},
   "source": [
    "## 1. Notebook Styling and Package Management"
   ]
  },
  {
   "cell_type": "code",
   "execution_count": null,
   "id": "0e8661c7-243e-4a44-9583-66043f729eb3",
   "metadata": {},
   "outputs": [],
   "source": [
    "import numpy as np # Library for math operations\n",
    "import pandas as pd # Library for data handling\n",
    "import sklearn # The machine learning library we will be using in this entire course\n",
    "from sklearn import tree # Tree function is used for visualizing decision tree\n",
    "from sklearn.metrics import * # Importing function that can be used to calculate different metrics\n",
    "from sklearn.tree import DecisionTreeClassifier # Importing Decision Tree Classifier \n",
    "from sklearn.ensemble import RandomForestClassifier  # Importing Random Forest Classifier \n",
    "from sklearn.preprocessing import MinMaxScaler, LabelEncoder # Importing function for scaling the data\n",
    "from sklearn.ensemble import GradientBoostingClassifier # Importing GB Classifier\n",
    "from sklearn.model_selection import GridSearchCV, RandomizedSearchCV # Importing GridSearchCV\n",
    "from xgboost import XGBClassifier # Importing the XGBoost Classifier \n",
    "import matplotlib.pyplot as plt # Importing the package for plotting\n",
    "plt.style.use('fivethirtyeight') # Use the styling from FiveThirtyEight Website\n",
    "import seaborn as sns # Importing another package for plotting"
   ]
  },
  {
   "cell_type": "markdown",
   "id": "b75502a0-c0c2-4887-b206-88f419568819",
   "metadata": {},
   "source": [
    "## 2. Load Data"
   ]
  },
  {
   "cell_type": "code",
   "execution_count": null,
   "id": "db1818c9-6695-444d-bf71-23b9b60d6628",
   "metadata": {},
   "outputs": [],
   "source": [
    "trainInput = pd.read_csv(\"Data/hilton_2024_train.csv\") \n",
    "testInput = pd.read_csv(\"Data/hilton_2024_test.csv\")"
   ]
  },
  {
   "cell_type": "code",
   "execution_count": null,
   "id": "374ed844-615e-40a9-ae5f-4426c85cdab1",
   "metadata": {},
   "outputs": [],
   "source": [
    "trainData = trainInput.drop(columns = 'Stay')\n",
    "trainLabels = LabelEncoder().fit_transform(trainInput.Stay)\n",
    "\n",
    "testData = testInput.drop(columns = 'Stay')\n",
    "testLabels = LabelEncoder().fit_transform(testInput.Stay)"
   ]
  },
  {
   "cell_type": "code",
   "execution_count": null,
   "id": "435d00b2-4d23-49c3-87b3-bbfbdaa0df50",
   "metadata": {},
   "outputs": [],
   "source": [
    "trainData.info()"
   ]
  },
  {
   "cell_type": "markdown",
   "id": "1f32d3d3-dcd8-4e49-af0a-98702524e699",
   "metadata": {},
   "source": [
    "## 3. Train a XGBoost Classifier"
   ]
  },
  {
   "cell_type": "code",
   "execution_count": null,
   "id": "474bba23-8389-4259-99b3-89380bb74f2d",
   "metadata": {},
   "outputs": [],
   "source": [
    "clf = XGBClassifier(random_state = 1)\n",
    "clf.fit(trainData, trainLabels)"
   ]
  },
  {
   "cell_type": "markdown",
   "id": "122f39c5-d46d-4865-adb6-22cf1830e015",
   "metadata": {},
   "source": [
    "## 4. Evaluate the Classifier Using the Testing Data (Recommended)"
   ]
  },
  {
   "cell_type": "markdown",
   "id": "e8ee5b79-51ba-4b0d-85df-46796821bdf7",
   "metadata": {},
   "source": [
    "We first import custom functions from a custom package called custom_functions. File custom_functions.py should be in the active directory."
   ]
  },
  {
   "cell_type": "code",
   "execution_count": null,
   "id": "5c99d3e9-552f-4d08-b1d9-70cdbb60aaba",
   "metadata": {},
   "outputs": [],
   "source": [
    "from custom_functions import plot_conf_mat, plot_roc_curve, plot_feature_importance, calculateMetricsAndPrint"
   ]
  },
  {
   "cell_type": "markdown",
   "id": "9d691623-b39c-42c1-bc67-4769690e1204",
   "metadata": {},
   "source": [
    "#### 4.1. Confusion Matrix:"
   ]
  },
  {
   "cell_type": "code",
   "execution_count": null,
   "id": "4be120f7-3d63-4080-a208-ab33df697e96",
   "metadata": {},
   "outputs": [],
   "source": [
    "plot_conf_mat(clf, # The classifier object\n",
    "              testData, # The test data set aside for evaluation in train_test_split\n",
    "              testLabels # Actual labels\n",
    "             )"
   ]
  },
  {
   "cell_type": "markdown",
   "id": "f388f8f2-b61b-45bf-afad-7dfe8d6f0704",
   "metadata": {},
   "source": [
    "#### 4.2. Accuracy, Precision, Recall, AUC, and F1:"
   ]
  },
  {
   "cell_type": "code",
   "execution_count": null,
   "id": "84419bf5-6aa2-4fe8-aa29-1d5136878fed",
   "metadata": {},
   "outputs": [],
   "source": [
    "1312/(1312+252)"
   ]
  },
  {
   "cell_type": "code",
   "execution_count": null,
   "id": "74c6ec0a-3f6d-43d5-a4e9-167a08f45d8c",
   "metadata": {},
   "outputs": [],
   "source": [
    "predictedProbabilities = clf.predict_proba(testData)\n",
    "predictedLabels = clf.predict(testData) \n",
    "calculateMetricsAndPrint(predictedLabels, predictedProbabilities, testLabels)"
   ]
  },
  {
   "cell_type": "code",
   "execution_count": null,
   "id": "4e917e23-f10f-4c0a-9d87-5fc6e7309a99",
   "metadata": {},
   "outputs": [],
   "source": [
    "print(\"F1 Score:\",f1_score(testLabels, predictedLabels, average='micro'))"
   ]
  },
  {
   "cell_type": "markdown",
   "id": "f060ee8c-bfbc-4b33-bec4-7ddca1ace24c",
   "metadata": {},
   "source": [
    "#### 4.3. ROC Curve:"
   ]
  },
  {
   "cell_type": "code",
   "execution_count": null,
   "id": "60dd0130-1335-45d1-95cc-2c1834793250",
   "metadata": {},
   "outputs": [],
   "source": [
    "predictedProbabilities"
   ]
  },
  {
   "cell_type": "code",
   "execution_count": null,
   "id": "de2f5965-bce5-480c-a9c7-a6eea9bac1a8",
   "metadata": {},
   "outputs": [],
   "source": [
    "positiveProbabilities = predictedProbabilities[:,1]"
   ]
  },
  {
   "cell_type": "code",
   "execution_count": null,
   "id": "a92778dc-7c93-4a4a-a7d7-d4959e8f17a8",
   "metadata": {},
   "outputs": [],
   "source": [
    "plot_roc_curve(testLabels, # Actual labels\n",
    "               positiveProbabilities, # Prediction scores for the positive class\n",
    "               pos_label = 1 # Indicate the label that corresponds to the positive class\n",
    "              )"
   ]
  },
  {
   "cell_type": "markdown",
   "id": "0bc6e93d-9348-42d3-893b-5f0e7b539e75",
   "metadata": {},
   "source": [
    "#### 4.4. Log-Loss"
   ]
  },
  {
   "cell_type": "code",
   "execution_count": null,
   "id": "ce1d9ef3-00d2-440c-8837-c9d3c7b656f0",
   "metadata": {},
   "outputs": [],
   "source": [
    "temp = pd.DataFrame(positiveProbabilities)\n",
    "temp.columns = [\"prob_one\"]\n",
    "temp[\"Labels\"] = testLabels\n",
    "\n",
    "sns.histplot(data=temp, x=\"prob_one\", hue=\"Labels\")\n",
    "plt.show()"
   ]
  },
  {
   "cell_type": "code",
   "execution_count": null,
   "id": "4beb057e-1e58-4281-86fe-d67a96aaf47f",
   "metadata": {},
   "outputs": [],
   "source": [
    "log_loss(testLabels,positiveProbabilities)"
   ]
  },
  {
   "cell_type": "markdown",
   "id": "d7ca4d4c-a18c-4eea-b0db-da71b501418d",
   "metadata": {},
   "source": [
    "## 5. Apply the Model to Kaggle Data:"
   ]
  },
  {
   "cell_type": "code",
   "execution_count": null,
   "id": "76e93ba0-875f-4ca6-8479-e04f01678587",
   "metadata": {},
   "outputs": [],
   "source": [
    "kaggleTest = pd.read_csv(\"Data/hilton_2024_kaggle.csv\") "
   ]
  },
  {
   "cell_type": "code",
   "execution_count": null,
   "id": "c094c668-dd6c-4747-9fcf-3aac971eed91",
   "metadata": {},
   "outputs": [],
   "source": [
    "kaggleTest['score'] = clf.predict_proba(kaggleTest.drop(columns = 'unique_id'))[:,1]\n",
    "kaggleTest[['unique_id','score']].to_csv(\"Data/Kaggle_Submission.csv\", index = False)"
   ]
  },
  {
   "cell_type": "markdown",
   "id": "fec20d8f-65a3-48cf-a88c-7f91e8c90f84",
   "metadata": {},
   "source": [
    "Please submit to https://www.kaggle.com/t/72810a50d9ea40a287e0fdb347a07db9\n",
    "\n",
    "Each team should make at least three submissions per week from the launch until we close the competition. "
   ]
  }
 ],
 "metadata": {
  "kernelspec": {
   "display_name": "Python 3 (ipykernel)",
   "language": "python",
   "name": "python3"
  },
  "language_info": {
   "codemirror_mode": {
    "name": "ipython",
    "version": 3
   },
   "file_extension": ".py",
   "mimetype": "text/x-python",
   "name": "python",
   "nbconvert_exporter": "python",
   "pygments_lexer": "ipython3",
   "version": "3.11.4"
  }
 },
 "nbformat": 4,
 "nbformat_minor": 5
}
